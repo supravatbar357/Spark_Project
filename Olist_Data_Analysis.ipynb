{
  "nbformat": 4,
  "nbformat_minor": 0,
  "metadata": {
    "colab": {
      "provenance": []
    },
    "kernelspec": {
      "name": "python3",
      "display_name": "Python 3"
    },
    "language_info": {
      "name": "python"
    }
  },
  "cells": [
    {
      "cell_type": "code",
      "execution_count": 1,
      "metadata": {
        "colab": {
          "base_uri": "https://localhost:8080/"
        },
        "id": "NJCK6FF0bvPV",
        "outputId": "e26b0e78-2253-4a9b-f345-68837008722b"
      },
      "outputs": [
        {
          "output_type": "stream",
          "name": "stdout",
          "text": [
            "/content\n"
          ]
        }
      ],
      "source": [
        "!pwd"
      ]
    },
    {
      "cell_type": "code",
      "source": [
        "#!/bin/bash\n",
        "!curl -L -o /content/brazilian-ecommerce.zip\\\n",
        "  https://www.kaggle.com/api/v1/datasets/download/olistbr/brazilian-ecommerce"
      ],
      "metadata": {
        "colab": {
          "base_uri": "https://localhost:8080/"
        },
        "id": "UlkRrxyVb4oF",
        "outputId": "14a91b15-89cc-4a93-8a12-63f111532412"
      },
      "execution_count": 4,
      "outputs": [
        {
          "output_type": "stream",
          "name": "stdout",
          "text": [
            "  % Total    % Received % Xferd  Average Speed   Time    Time     Time  Current\n",
            "                                 Dload  Upload   Total   Spent    Left  Speed\n",
            "  0     0    0     0    0     0      0      0 --:--:-- --:--:-- --:--:--     0\n",
            "100 42.6M  100 42.6M    0     0  75.7M      0 --:--:-- --:--:-- --:--:-- 75.7M\n"
          ]
        }
      ]
    },
    {
      "cell_type": "code",
      "source": [
        "!unzip /content/brazilian-ecommerce.zip -d /content/brazilian-ecommerce/"
      ],
      "metadata": {
        "colab": {
          "base_uri": "https://localhost:8080/"
        },
        "id": "K7pZULNrce9G",
        "outputId": "ad1d63cd-9e00-44c8-f416-fc6d662797d8"
      },
      "execution_count": 5,
      "outputs": [
        {
          "output_type": "stream",
          "name": "stdout",
          "text": [
            "Archive:  /content/brazilian-ecommerce.zip\n",
            "  inflating: /content/brazilian-ecommerce/olist_customers_dataset.csv  \n",
            "  inflating: /content/brazilian-ecommerce/olist_geolocation_dataset.csv  \n",
            "  inflating: /content/brazilian-ecommerce/olist_order_items_dataset.csv  \n",
            "  inflating: /content/brazilian-ecommerce/olist_order_payments_dataset.csv  \n",
            "  inflating: /content/brazilian-ecommerce/olist_order_reviews_dataset.csv  \n",
            "  inflating: /content/brazilian-ecommerce/olist_orders_dataset.csv  \n",
            "  inflating: /content/brazilian-ecommerce/olist_products_dataset.csv  \n",
            "  inflating: /content/brazilian-ecommerce/olist_sellers_dataset.csv  \n",
            "  inflating: /content/brazilian-ecommerce/product_category_name_translation.csv  \n"
          ]
        }
      ]
    },
    {
      "cell_type": "code",
      "source": [
        "!ls -lrt -h /content/brazilian-ecommerce/"
      ],
      "metadata": {
        "colab": {
          "base_uri": "https://localhost:8080/"
        },
        "id": "FXlCDyr9cm49",
        "outputId": "764b5417-d910-4558-c964-e374f8a0c557"
      },
      "execution_count": 6,
      "outputs": [
        {
          "output_type": "stream",
          "name": "stdout",
          "text": [
            "total 121M\n",
            "-rw-r--r-- 1 root root 8.7M Oct  1  2021 olist_customers_dataset.csv\n",
            "-rw-r--r-- 1 root root  59M Oct  1  2021 olist_geolocation_dataset.csv\n",
            "-rw-r--r-- 1 root root  15M Oct  1  2021 olist_order_items_dataset.csv\n",
            "-rw-r--r-- 1 root root 5.6M Oct  1  2021 olist_order_payments_dataset.csv\n",
            "-rw-r--r-- 1 root root  17M Oct  1  2021 olist_orders_dataset.csv\n",
            "-rw-r--r-- 1 root root  14M Oct  1  2021 olist_order_reviews_dataset.csv\n",
            "-rw-r--r-- 1 root root 2.3M Oct  1  2021 olist_products_dataset.csv\n",
            "-rw-r--r-- 1 root root 2.6K Oct  1  2021 product_category_name_translation.csv\n",
            "-rw-r--r-- 1 root root 171K Oct  1  2021 olist_sellers_dataset.csv\n"
          ]
        }
      ]
    },
    {
      "cell_type": "code",
      "source": [
        "from pyspark.sql import SparkSession\n",
        "spark = SparkSession.builder.master(\"local[*]\").getOrCreate()\n",
        "customer_df = spark.read.csv(\"/content/brazilian-ecommerce/olist_customers_dataset.csv\", header=True, inferSchema=True)\n",
        "customer_df.printSchema()\n",
        "customer_df.show(10)"
      ],
      "metadata": {
        "colab": {
          "base_uri": "https://localhost:8080/"
        },
        "id": "3Ysg7iBjc5cl",
        "outputId": "ecd0f052-ef70-4e4f-a04d-375a35cb0efb"
      },
      "execution_count": 7,
      "outputs": [
        {
          "output_type": "stream",
          "name": "stdout",
          "text": [
            "root\n",
            " |-- customer_id: string (nullable = true)\n",
            " |-- customer_unique_id: string (nullable = true)\n",
            " |-- customer_zip_code_prefix: integer (nullable = true)\n",
            " |-- customer_city: string (nullable = true)\n",
            " |-- customer_state: string (nullable = true)\n",
            "\n",
            "+--------------------+--------------------+------------------------+--------------------+--------------+\n",
            "|         customer_id|  customer_unique_id|customer_zip_code_prefix|       customer_city|customer_state|\n",
            "+--------------------+--------------------+------------------------+--------------------+--------------+\n",
            "|06b8999e2fba1a1fb...|861eff4711a542e4b...|                   14409|              franca|            SP|\n",
            "|18955e83d337fd6b2...|290c77bc529b7ac93...|                    9790|sao bernardo do c...|            SP|\n",
            "|4e7b3e00288586ebd...|060e732b5b29e8181...|                    1151|           sao paulo|            SP|\n",
            "|b2b6027bc5c5109e5...|259dac757896d24d7...|                    8775|     mogi das cruzes|            SP|\n",
            "|4f2d8ab171c80ec83...|345ecd01c38d18a90...|                   13056|            campinas|            SP|\n",
            "|879864dab9bc30475...|4c93744516667ad3b...|                   89254|      jaragua do sul|            SC|\n",
            "|fd826e7cf63160e53...|addec96d2e059c80c...|                    4534|           sao paulo|            SP|\n",
            "|5e274e7a0c3809e14...|57b2a98a409812fe9...|                   35182|             timoteo|            MG|\n",
            "|5adf08e34b2e99398...|1175e95fb47ddff9d...|                   81560|            curitiba|            PR|\n",
            "|4b7139f34592b3a31...|9afe194fb833f79e3...|                   30575|      belo horizonte|            MG|\n",
            "+--------------------+--------------------+------------------------+--------------------+--------------+\n",
            "only showing top 10 rows\n",
            "\n"
          ]
        }
      ]
    },
    {
      "cell_type": "code",
      "source": [
        "# prompt: do the steps for all the files in brazzilian ecommerce folder and show it separately\n",
        "\n",
        "from pyspark.sql import SparkSession\n",
        "from pyspark.sql.functions import input_file_name\n",
        "\n",
        "# Assuming spark and other setup is done as in the preceding code\n",
        "\n",
        "# List all CSV files in the directory\n",
        "import os\n",
        "directory_path = '/content/brazilian-ecommerce/'\n",
        "csv_files = [f for f in os.listdir(directory_path) if f.endswith('.csv')]\n",
        "\n",
        "for file_name in csv_files:\n",
        "  file_path = os.path.join(directory_path, file_name)\n",
        "  print(f\"\\n--- Processing file: {file_name} ---\")\n",
        "  try:\n",
        "    df = spark.read.csv(file_path, header=True, inferSchema=True)\n",
        "    df.printSchema()\n",
        "    df.show(5) # Show a few rows for each file\n",
        "  except Exception as e:\n",
        "    print(f\"Error processing file {file_name}: {e}\")\n"
      ],
      "metadata": {
        "colab": {
          "base_uri": "https://localhost:8080/"
        },
        "id": "JalpcySyevHi",
        "outputId": "0ccbae81-63ca-49de-b277-52dba826ae4b"
      },
      "execution_count": 8,
      "outputs": [
        {
          "output_type": "stream",
          "name": "stdout",
          "text": [
            "\n",
            "--- Processing file: olist_products_dataset.csv ---\n",
            "root\n",
            " |-- product_id: string (nullable = true)\n",
            " |-- product_category_name: string (nullable = true)\n",
            " |-- product_name_lenght: integer (nullable = true)\n",
            " |-- product_description_lenght: integer (nullable = true)\n",
            " |-- product_photos_qty: integer (nullable = true)\n",
            " |-- product_weight_g: integer (nullable = true)\n",
            " |-- product_length_cm: integer (nullable = true)\n",
            " |-- product_height_cm: integer (nullable = true)\n",
            " |-- product_width_cm: integer (nullable = true)\n",
            "\n",
            "+--------------------+---------------------+-------------------+--------------------------+------------------+----------------+-----------------+-----------------+----------------+\n",
            "|          product_id|product_category_name|product_name_lenght|product_description_lenght|product_photos_qty|product_weight_g|product_length_cm|product_height_cm|product_width_cm|\n",
            "+--------------------+---------------------+-------------------+--------------------------+------------------+----------------+-----------------+-----------------+----------------+\n",
            "|1e9e8ef04dbcff454...|           perfumaria|                 40|                       287|                 1|             225|               16|               10|              14|\n",
            "|3aa071139cb16b67c...|                artes|                 44|                       276|                 1|            1000|               30|               18|              20|\n",
            "|96bd76ec8810374ed...|        esporte_lazer|                 46|                       250|                 1|             154|               18|                9|              15|\n",
            "|cef67bcfe19066a93...|                bebes|                 27|                       261|                 1|             371|               26|                4|              26|\n",
            "|9dc1a7de274444849...| utilidades_domest...|                 37|                       402|                 4|             625|               20|               17|              13|\n",
            "+--------------------+---------------------+-------------------+--------------------------+------------------+----------------+-----------------+-----------------+----------------+\n",
            "only showing top 5 rows\n",
            "\n",
            "\n",
            "--- Processing file: olist_geolocation_dataset.csv ---\n",
            "root\n",
            " |-- geolocation_zip_code_prefix: integer (nullable = true)\n",
            " |-- geolocation_lat: double (nullable = true)\n",
            " |-- geolocation_lng: double (nullable = true)\n",
            " |-- geolocation_city: string (nullable = true)\n",
            " |-- geolocation_state: string (nullable = true)\n",
            "\n",
            "+---------------------------+-------------------+------------------+----------------+-----------------+\n",
            "|geolocation_zip_code_prefix|    geolocation_lat|   geolocation_lng|geolocation_city|geolocation_state|\n",
            "+---------------------------+-------------------+------------------+----------------+-----------------+\n",
            "|                       1037| -23.54562128115268|-46.63929204800168|       sao paulo|               SP|\n",
            "|                       1046|-23.546081127035535|-46.64482029837157|       sao paulo|               SP|\n",
            "|                       1046| -23.54612896641469|-46.64295148361138|       sao paulo|               SP|\n",
            "|                       1041|  -23.5443921648681|-46.63949930627844|       sao paulo|               SP|\n",
            "|                       1035|-23.541577961711493|-46.64160722329613|       sao paulo|               SP|\n",
            "+---------------------------+-------------------+------------------+----------------+-----------------+\n",
            "only showing top 5 rows\n",
            "\n",
            "\n",
            "--- Processing file: product_category_name_translation.csv ---\n",
            "root\n",
            " |-- product_category_name: string (nullable = true)\n",
            " |-- product_category_name_english: string (nullable = true)\n",
            "\n",
            "+---------------------+-----------------------------+\n",
            "|product_category_name|product_category_name_english|\n",
            "+---------------------+-----------------------------+\n",
            "|         beleza_saude|                health_beauty|\n",
            "| informatica_acess...|         computers_accesso...|\n",
            "|           automotivo|                         auto|\n",
            "|      cama_mesa_banho|               bed_bath_table|\n",
            "|     moveis_decoracao|              furniture_decor|\n",
            "+---------------------+-----------------------------+\n",
            "only showing top 5 rows\n",
            "\n",
            "\n",
            "--- Processing file: olist_order_payments_dataset.csv ---\n",
            "root\n",
            " |-- order_id: string (nullable = true)\n",
            " |-- payment_sequential: integer (nullable = true)\n",
            " |-- payment_type: string (nullable = true)\n",
            " |-- payment_installments: integer (nullable = true)\n",
            " |-- payment_value: double (nullable = true)\n",
            "\n",
            "+--------------------+------------------+------------+--------------------+-------------+\n",
            "|            order_id|payment_sequential|payment_type|payment_installments|payment_value|\n",
            "+--------------------+------------------+------------+--------------------+-------------+\n",
            "|b81ef226f3fe1789b...|                 1| credit_card|                   8|        99.33|\n",
            "|a9810da82917af2d9...|                 1| credit_card|                   1|        24.39|\n",
            "|25e8ea4e93396b6fa...|                 1| credit_card|                   1|        65.71|\n",
            "|ba78997921bbcdc13...|                 1| credit_card|                   8|       107.78|\n",
            "|42fdf880ba16b47b5...|                 1| credit_card|                   2|       128.45|\n",
            "+--------------------+------------------+------------+--------------------+-------------+\n",
            "only showing top 5 rows\n",
            "\n",
            "\n",
            "--- Processing file: olist_orders_dataset.csv ---\n",
            "root\n",
            " |-- order_id: string (nullable = true)\n",
            " |-- customer_id: string (nullable = true)\n",
            " |-- order_status: string (nullable = true)\n",
            " |-- order_purchase_timestamp: timestamp (nullable = true)\n",
            " |-- order_approved_at: timestamp (nullable = true)\n",
            " |-- order_delivered_carrier_date: timestamp (nullable = true)\n",
            " |-- order_delivered_customer_date: timestamp (nullable = true)\n",
            " |-- order_estimated_delivery_date: timestamp (nullable = true)\n",
            "\n",
            "+--------------------+--------------------+------------+------------------------+-------------------+----------------------------+-----------------------------+-----------------------------+\n",
            "|            order_id|         customer_id|order_status|order_purchase_timestamp|  order_approved_at|order_delivered_carrier_date|order_delivered_customer_date|order_estimated_delivery_date|\n",
            "+--------------------+--------------------+------------+------------------------+-------------------+----------------------------+-----------------------------+-----------------------------+\n",
            "|e481f51cbdc54678b...|9ef432eb625129730...|   delivered|     2017-10-02 10:56:33|2017-10-02 11:07:15|         2017-10-04 19:55:00|          2017-10-10 21:25:13|          2017-10-18 00:00:00|\n",
            "|53cdb2fc8bc7dce0b...|b0830fb4747a6c6d2...|   delivered|     2018-07-24 20:41:37|2018-07-26 03:24:27|         2018-07-26 14:31:00|          2018-08-07 15:27:45|          2018-08-13 00:00:00|\n",
            "|47770eb9100c2d0c4...|41ce2a54c0b03bf34...|   delivered|     2018-08-08 08:38:49|2018-08-08 08:55:23|         2018-08-08 13:50:00|          2018-08-17 18:06:29|          2018-09-04 00:00:00|\n",
            "|949d5b44dbf5de918...|f88197465ea7920ad...|   delivered|     2017-11-18 19:28:06|2017-11-18 19:45:59|         2017-11-22 13:39:59|          2017-12-02 00:28:42|          2017-12-15 00:00:00|\n",
            "|ad21c59c0840e6cb8...|8ab97904e6daea886...|   delivered|     2018-02-13 21:18:39|2018-02-13 22:20:29|         2018-02-14 19:46:34|          2018-02-16 18:17:02|          2018-02-26 00:00:00|\n",
            "+--------------------+--------------------+------------+------------------------+-------------------+----------------------------+-----------------------------+-----------------------------+\n",
            "only showing top 5 rows\n",
            "\n",
            "\n",
            "--- Processing file: olist_customers_dataset.csv ---\n",
            "root\n",
            " |-- customer_id: string (nullable = true)\n",
            " |-- customer_unique_id: string (nullable = true)\n",
            " |-- customer_zip_code_prefix: integer (nullable = true)\n",
            " |-- customer_city: string (nullable = true)\n",
            " |-- customer_state: string (nullable = true)\n",
            "\n",
            "+--------------------+--------------------+------------------------+--------------------+--------------+\n",
            "|         customer_id|  customer_unique_id|customer_zip_code_prefix|       customer_city|customer_state|\n",
            "+--------------------+--------------------+------------------------+--------------------+--------------+\n",
            "|06b8999e2fba1a1fb...|861eff4711a542e4b...|                   14409|              franca|            SP|\n",
            "|18955e83d337fd6b2...|290c77bc529b7ac93...|                    9790|sao bernardo do c...|            SP|\n",
            "|4e7b3e00288586ebd...|060e732b5b29e8181...|                    1151|           sao paulo|            SP|\n",
            "|b2b6027bc5c5109e5...|259dac757896d24d7...|                    8775|     mogi das cruzes|            SP|\n",
            "|4f2d8ab171c80ec83...|345ecd01c38d18a90...|                   13056|            campinas|            SP|\n",
            "+--------------------+--------------------+------------------------+--------------------+--------------+\n",
            "only showing top 5 rows\n",
            "\n",
            "\n",
            "--- Processing file: olist_order_items_dataset.csv ---\n",
            "root\n",
            " |-- order_id: string (nullable = true)\n",
            " |-- order_item_id: integer (nullable = true)\n",
            " |-- product_id: string (nullable = true)\n",
            " |-- seller_id: string (nullable = true)\n",
            " |-- shipping_limit_date: timestamp (nullable = true)\n",
            " |-- price: double (nullable = true)\n",
            " |-- freight_value: double (nullable = true)\n",
            "\n",
            "+--------------------+-------------+--------------------+--------------------+-------------------+-----+-------------+\n",
            "|            order_id|order_item_id|          product_id|           seller_id|shipping_limit_date|price|freight_value|\n",
            "+--------------------+-------------+--------------------+--------------------+-------------------+-----+-------------+\n",
            "|00010242fe8c5a6d1...|            1|4244733e06e7ecb49...|48436dade18ac8b2b...|2017-09-19 09:45:35| 58.9|        13.29|\n",
            "|00018f77f2f0320c5...|            1|e5f2d52b802189ee6...|dd7ddc04e1b6c2c61...|2017-05-03 11:05:13|239.9|        19.93|\n",
            "|000229ec398224ef6...|            1|c777355d18b72b67a...|5b51032eddd242adc...|2018-01-18 14:48:30|199.0|        17.87|\n",
            "|00024acbcdf0a6daa...|            1|7634da152a4610f15...|9d7a1d34a50524090...|2018-08-15 10:10:18|12.99|        12.79|\n",
            "|00042b26cf59d7ce6...|            1|ac6c3623068f30de0...|df560393f3a51e745...|2017-02-13 13:57:51|199.9|        18.14|\n",
            "+--------------------+-------------+--------------------+--------------------+-------------------+-----+-------------+\n",
            "only showing top 5 rows\n",
            "\n",
            "\n",
            "--- Processing file: olist_order_reviews_dataset.csv ---\n",
            "root\n",
            " |-- review_id: string (nullable = true)\n",
            " |-- order_id: string (nullable = true)\n",
            " |-- review_score: string (nullable = true)\n",
            " |-- review_comment_title: string (nullable = true)\n",
            " |-- review_comment_message: string (nullable = true)\n",
            " |-- review_creation_date: string (nullable = true)\n",
            " |-- review_answer_timestamp: string (nullable = true)\n",
            "\n",
            "+--------------------+--------------------+------------+--------------------+----------------------+--------------------+-----------------------+\n",
            "|           review_id|            order_id|review_score|review_comment_title|review_comment_message|review_creation_date|review_answer_timestamp|\n",
            "+--------------------+--------------------+------------+--------------------+----------------------+--------------------+-----------------------+\n",
            "|7bc2406110b926393...|73fc7af87114b3971...|           4|                NULL|                  NULL| 2018-01-18 00:00:00|    2018-01-18 21:46:59|\n",
            "|80e641a11e56f04c1...|a548910a1c6147796...|           5|                NULL|                  NULL| 2018-03-10 00:00:00|    2018-03-11 03:05:13|\n",
            "|228ce5500dc1d8e02...|f9e4b658b201a9f2e...|           5|                NULL|                  NULL| 2018-02-17 00:00:00|    2018-02-18 14:36:24|\n",
            "|e64fb393e7b32834b...|658677c97b385a9be...|           5|                NULL|  Recebi bem antes ...| 2017-04-21 00:00:00|    2017-04-21 22:02:06|\n",
            "|f7c4243c7fe1938f1...|8e6bfb81e283fa7e4...|           5|                NULL|  Parabéns lojas la...| 2018-03-01 00:00:00|    2018-03-02 10:26:53|\n",
            "+--------------------+--------------------+------------+--------------------+----------------------+--------------------+-----------------------+\n",
            "only showing top 5 rows\n",
            "\n",
            "\n",
            "--- Processing file: olist_sellers_dataset.csv ---\n",
            "root\n",
            " |-- seller_id: string (nullable = true)\n",
            " |-- seller_zip_code_prefix: integer (nullable = true)\n",
            " |-- seller_city: string (nullable = true)\n",
            " |-- seller_state: string (nullable = true)\n",
            "\n",
            "+--------------------+----------------------+-----------------+------------+\n",
            "|           seller_id|seller_zip_code_prefix|      seller_city|seller_state|\n",
            "+--------------------+----------------------+-----------------+------------+\n",
            "|3442f8959a84dea7e...|                 13023|         campinas|          SP|\n",
            "|d1b65fc7debc3361e...|                 13844|       mogi guacu|          SP|\n",
            "|ce3ad9de960102d06...|                 20031|   rio de janeiro|          RJ|\n",
            "|c0f3eea2e14555b6f...|                  4195|        sao paulo|          SP|\n",
            "|51a04a8a6bdcb23de...|                 12914|braganca paulista|          SP|\n",
            "+--------------------+----------------------+-----------------+------------+\n",
            "only showing top 5 rows\n",
            "\n"
          ]
        }
      ]
    },
    {
      "cell_type": "code",
      "source": [],
      "metadata": {
        "id": "eaDndPAmfRgn"
      },
      "execution_count": null,
      "outputs": []
    }
  ]
}