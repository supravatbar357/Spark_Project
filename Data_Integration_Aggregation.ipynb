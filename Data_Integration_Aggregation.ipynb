{
  "cells": [
    {
      "cell_type": "code",
      "execution_count": null,
      "id": "dd02c79f-66ca-45c2-a0ad-8c18f69d5c2c",
      "metadata": {
        "id": "dd02c79f-66ca-45c2-a0ad-8c18f69d5c2c",
        "outputId": "65cb1c7e-0841-4c4a-e19c-bf5481862483"
      },
      "outputs": [
        {
          "name": "stderr",
          "output_type": "stream",
          "text": "25/03/08 05:09:43 WARN SparkSession: Using an existing Spark session; only runtime SQL configurations will take effect.\n                                                                                \r"
        }
      ],
      "source": [
        "from pyspark.sql import SparkSession\n",
        "\n",
        "spark = SparkSession.builder.appName('olist').getOrCreate()\n",
        "\n",
        "hdfs_path = '/olist_ka_data/'\n",
        "\n",
        "\n",
        "olist_customers_df = spark.read.csv(\"/olist_ka_data/olist_customers_dataset.csv\", header=True, inferSchema=True)\n",
        "olist_geolocation_df = spark.read.csv(\"/olist_ka_data/olist_geolocation_dataset.csv\", header=True, inferSchema=True)\n",
        "olist_order_items_df = spark.read.csv(\"/olist_ka_data/olist_order_items_dataset.csv\", header=True, inferSchema=True)\n",
        "olist_order_payments_df = spark.read.csv(\"/olist_ka_data/olist_order_payments_dataset.csv\", header=True, inferSchema=True)\n",
        "olist_order_reviews_df = spark.read.csv(\"/olist_ka_data/olist_order_reviews_dataset.csv\", header=True, inferSchema=True)\n",
        "olist_orders_df = spark.read.csv(\"/olist_ka_data/olist_orders_dataset.csv\", header=True, inferSchema=True)\n",
        "olist_products_df = spark.read.csv(\"/olist_ka_data/olist_products_dataset.csv\", header=True, inferSchema=True)\n",
        "olist_sellers_df = spark.read.csv(\"/olist_ka_data/olist_sellers_dataset.csv\", header=True, inferSchema=True)\n",
        "product_category_name_translation_df = spark.read.csv(\"/olist_ka_data/product_category_name_translation.csv\", header=True, inferSchema=True)\n"
      ]
    },
    {
      "cell_type": "code",
      "execution_count": null,
      "id": "8f6fbe77-bffc-40ca-acb6-a8b190e032dc",
      "metadata": {
        "id": "8f6fbe77-bffc-40ca-acb6-a8b190e032dc"
      },
      "outputs": [],
      "source": [
        "from pyspark.sql.functions import *"
      ]
    },
    {
      "cell_type": "code",
      "execution_count": null,
      "id": "ca7f3d70-fd84-4567-bde9-8f42ed2c4c7f",
      "metadata": {
        "id": "ca7f3d70-fd84-4567-bde9-8f42ed2c4c7f",
        "outputId": "3a0b8282-355b-4907-a055-d7b57fb8c6bf"
      },
      "outputs": [
        {
          "data": {
            "text/plain": "DataFrame[order_id: string, customer_id: string, order_status: string, order_purchase_timestamp: timestamp, order_approved_at: timestamp, order_delivered_carrier_date: timestamp, order_delivered_customer_date: timestamp, order_estimated_delivery_date: timestamp]"
          },
          "execution_count": 2,
          "metadata": {},
          "output_type": "execute_result"
        }
      ],
      "source": [
        "olist_orders_df.cache()"
      ]
    },
    {
      "cell_type": "code",
      "execution_count": null,
      "id": "a6cf3f80-7f81-4859-be16-c9acd3d2df27",
      "metadata": {
        "id": "a6cf3f80-7f81-4859-be16-c9acd3d2df27"
      },
      "outputs": [],
      "source": [
        "order_items_joined_df = olist_orders_df.join(olist_order_items_df,'order_id','inner')"
      ]
    },
    {
      "cell_type": "code",
      "execution_count": null,
      "id": "951127df-1305-45bd-b13a-5fece17ceafe",
      "metadata": {
        "id": "951127df-1305-45bd-b13a-5fece17ceafe"
      },
      "outputs": [],
      "source": [
        "order_items_product_df = order_items_joined_df.join(olist_products_df,'product_id','inner')"
      ]
    },
    {
      "cell_type": "code",
      "execution_count": null,
      "id": "dcfd7999-f496-4be7-af1e-2cdb2698ee25",
      "metadata": {
        "id": "dcfd7999-f496-4be7-af1e-2cdb2698ee25"
      },
      "outputs": [],
      "source": [
        "order_items_product_seller_df = order_items_product_df.join(olist_sellers_df,'seller_id','inner')"
      ]
    },
    {
      "cell_type": "code",
      "execution_count": null,
      "id": "fb13660e-18d1-4888-95c6-78ff63f48f31",
      "metadata": {
        "id": "fb13660e-18d1-4888-95c6-78ff63f48f31"
      },
      "outputs": [],
      "source": [
        "full_orders_df = order_items_product_seller_df.join(olist_customers_df,'customer_id','inner')"
      ]
    },
    {
      "cell_type": "code",
      "execution_count": null,
      "id": "abd9104f-08f6-4b59-814b-e3b43a390c2b",
      "metadata": {
        "id": "abd9104f-08f6-4b59-814b-e3b43a390c2b"
      },
      "outputs": [],
      "source": [
        "full_orders_df = full_orders_df.join(olist_geolocation_df,full_orders_df.customer_zip_code_prefix ==olist_geolocation_df.geolocation_zip_code_prefix ,'inner')"
      ]
    },
    {
      "cell_type": "code",
      "execution_count": null,
      "id": "6e6dd5cb-8377-4387-a812-0fe76758766f",
      "metadata": {
        "id": "6e6dd5cb-8377-4387-a812-0fe76758766f",
        "outputId": "31a3cf83-1a57-47fa-a873-ec49c94aeaad"
      },
      "outputs": [
        {
          "name": "stdout",
          "output_type": "stream",
          "text": "root\n |-- customer_id: string (nullable = true)\n |-- seller_id: string (nullable = true)\n |-- product_id: string (nullable = true)\n |-- order_id: string (nullable = true)\n |-- order_status: string (nullable = true)\n |-- order_purchase_timestamp: timestamp (nullable = true)\n |-- order_approved_at: timestamp (nullable = true)\n |-- order_delivered_carrier_date: timestamp (nullable = true)\n |-- order_delivered_customer_date: timestamp (nullable = true)\n |-- order_estimated_delivery_date: timestamp (nullable = true)\n |-- order_item_id: integer (nullable = true)\n |-- shipping_limit_date: timestamp (nullable = true)\n |-- price: double (nullable = true)\n |-- freight_value: double (nullable = true)\n |-- product_category_name: string (nullable = true)\n |-- product_name_lenght: integer (nullable = true)\n |-- product_description_lenght: integer (nullable = true)\n |-- product_photos_qty: integer (nullable = true)\n |-- product_weight_g: integer (nullable = true)\n |-- product_length_cm: integer (nullable = true)\n |-- product_height_cm: integer (nullable = true)\n |-- product_width_cm: integer (nullable = true)\n |-- seller_zip_code_prefix: integer (nullable = true)\n |-- seller_city: string (nullable = true)\n |-- seller_state: string (nullable = true)\n |-- customer_unique_id: string (nullable = true)\n |-- customer_zip_code_prefix: integer (nullable = true)\n |-- customer_city: string (nullable = true)\n |-- customer_state: string (nullable = true)\n |-- geolocation_zip_code_prefix: integer (nullable = true)\n |-- geolocation_lat: double (nullable = true)\n |-- geolocation_lng: double (nullable = true)\n |-- geolocation_city: string (nullable = true)\n |-- geolocation_state: string (nullable = true)\n\n"
        }
      ],
      "source": [
        "full_orders_df.printSchema()"
      ]
    },
    {
      "cell_type": "code",
      "execution_count": null,
      "id": "9969fcb1-a496-4968-b91c-857fd8399709",
      "metadata": {
        "id": "9969fcb1-a496-4968-b91c-857fd8399709"
      },
      "outputs": [],
      "source": [
        "full_orders_df= full_orders_df.join(broadcast(olist_order_reviews_df),'order_id','left')"
      ]
    },
    {
      "cell_type": "code",
      "execution_count": null,
      "id": "1ad87133-0a85-422f-a1f0-315a96f36e80",
      "metadata": {
        "id": "1ad87133-0a85-422f-a1f0-315a96f36e80"
      },
      "outputs": [],
      "source": [
        "full_orders_df = full_orders_df.join(olist_order_payments_df,'order_id','left')"
      ]
    },
    {
      "cell_type": "code",
      "execution_count": null,
      "id": "82a7a847-8032-471c-81dd-79634c04c381",
      "metadata": {
        "id": "82a7a847-8032-471c-81dd-79634c04c381",
        "outputId": "7dccce43-191e-4885-db05-47d2b6acd455"
      },
      "outputs": [
        {
          "name": "stderr",
          "output_type": "stream",
          "text": "25/03/08 05:18:14 WARN package: Truncated the string representation of a plan since it was too large. This behavior can be adjusted by setting 'spark.sql.debug.maxToStringFields'.\n"
        },
        {
          "data": {
            "text/plain": "DataFrame[order_id: string, customer_id: string, seller_id: string, product_id: string, order_status: string, order_purchase_timestamp: timestamp, order_approved_at: timestamp, order_delivered_carrier_date: timestamp, order_delivered_customer_date: timestamp, order_estimated_delivery_date: timestamp, order_item_id: int, shipping_limit_date: timestamp, price: double, freight_value: double, product_category_name: string, product_name_lenght: int, product_description_lenght: int, product_photos_qty: int, product_weight_g: int, product_length_cm: int, product_height_cm: int, product_width_cm: int, seller_zip_code_prefix: int, seller_city: string, seller_state: string, customer_unique_id: string, customer_zip_code_prefix: int, customer_city: string, customer_state: string, geolocation_zip_code_prefix: int, geolocation_lat: double, geolocation_lng: double, geolocation_city: string, geolocation_state: string, review_id: string, review_score: string, review_comment_title: string, review_comment_message: string, review_creation_date: string, review_answer_timestamp: string, payment_sequential: int, payment_type: string, payment_installments: int, payment_value: double]"
          },
          "execution_count": 13,
          "metadata": {},
          "output_type": "execute_result"
        }
      ],
      "source": [
        "full_orders_df.cache()"
      ]
    },
    {
      "cell_type": "code",
      "execution_count": null,
      "id": "d5a2a5e9-7175-4b7e-8bb7-3a19f0d4b723",
      "metadata": {
        "id": "d5a2a5e9-7175-4b7e-8bb7-3a19f0d4b723"
      },
      "outputs": [],
      "source": []
    },
    {
      "cell_type": "code",
      "execution_count": null,
      "id": "bd8b4101-4efe-4ecf-871b-dc452efff6df",
      "metadata": {
        "id": "bd8b4101-4efe-4ecf-871b-dc452efff6df"
      },
      "outputs": [],
      "source": [
        "# Total Revnue Per seller\n",
        "\n",
        "seller_revenue_df = full_orders_df.groupBy('seller_id').agg(sum('price'))"
      ]
    },
    {
      "cell_type": "code",
      "execution_count": null,
      "id": "1d8ff894-93b8-4b17-a4bb-55436cbeeb0c",
      "metadata": {
        "id": "1d8ff894-93b8-4b17-a4bb-55436cbeeb0c",
        "outputId": "9e2d95f4-9ab0-46ac-d38f-4579279fac10"
      },
      "outputs": [
        {
          "name": "stderr",
          "output_type": "stream",
          "text": "[Stage 26:=====================================================>(199 + 1) / 200]\r"
        },
        {
          "name": "stdout",
          "output_type": "stream",
          "text": "+--------------------+--------------------+\n|           seller_id|          sum(price)|\n+--------------------+--------------------+\n|8e6cc767478edae94...|  1145757.4000000013|\n|0ea22c1cfbdc755f8...|   1747285.300000005|\n|7aa4334be125fcdd2...|  2509245.9899999984|\n|f9244d45189d3a360...|   1784366.269999997|\n|87b740daf17b5d1be...|   2129079.519999993|\n|f457c46070d02cadd...|  3812449.4999999967|\n|537eb890efff034a8...|   894311.9000000024|\n|602044f2c16190c2c...|    511238.809999999|\n|a673821011d0cec28...|   2175949.989999999|\n|a420f60ff1aa9acc8...|            999172.5|\n|7238f877570096ae4...|            400000.0|\n|41c2bad7229b0c25e...|             45628.0|\n|900ba814c251a6925...|   4572013.930000013|\n|fe2032dab1a61af87...|1.0376350110000018E7|\n|b76dba6c951ab00dc...|   302532.6799999984|\n|7a67c85e85bb2ce85...|  2.03124429199999E7|\n|b1fecf4da1fa2689b...|   664756.8099999984|\n|5dceca129747e92ff...|1.4909400350000003E7|\n|6860153b69cc696d5...|   588681.3200000005|\n|7fe21dd00d2f4943a...|  18767.199999999943|\n+--------------------+--------------------+\nonly showing top 20 rows\n\n"
        },
        {
          "name": "stderr",
          "output_type": "stream",
          "text": "                                                                                \r"
        }
      ],
      "source": [
        "seller_revenue_df.show()"
      ]
    },
    {
      "cell_type": "code",
      "execution_count": null,
      "id": "c6110c67-d3f4-4811-b3c3-8e9df35f3701",
      "metadata": {
        "id": "c6110c67-d3f4-4811-b3c3-8e9df35f3701",
        "outputId": "b114c635-031e-49b5-b184-cabd19cd4765"
      },
      "outputs": [
        {
          "name": "stderr",
          "output_type": "stream",
          "text": "[Stage 33:===================================================>  (192 + 4) / 200]\r"
        },
        {
          "name": "stdout",
          "output_type": "stream",
          "text": "+--------------------+--------------------+\n|           seller_id|          sum(price)|\n+--------------------+--------------------+\n|0ea22c1cfbdc755f8...|  1747285.3000000052|\n|e63e8bfa530fb1691...|  219481.00000000032|\n|33ac3e28642ab8bda...|   615628.8499999995|\n|7aa4334be125fcdd2...|   2509245.989999998|\n|f457c46070d02cadd...|  3812449.4999999963|\n|5a6a02f419701fc8c...|   69180.89999999992|\n|7a67c85e85bb2ce85...|2.0312442919999905E7|\n|5dceca129747e92ff...|1.4909400350000003E7|\n|729f06993dac8e860...|  2774183.5599999926|\n|d2374cbcbb3ca4ab1...|   3375370.150000015|\n|1e8b33f18b4f7598d...|  3218885.1999999965|\n|70a12e78e608ac311...|   4838320.179999991|\n|238fac594e170b59c...|            480044.0|\n|76d5af76d0271110f...|          4672492.77|\n|e26901d5ab434ce92...|  2040715.4000000204|\n|0c7533c71df861ec5...|  463382.39999999857|\n|8e8a7ce9f2f970dc0...|           1176715.0|\n|cac4c8e7b1ca6252d...|   661026.2600000006|\n|0ebd97a106433a45a...|  396542.80000000127|\n|bd43e172d599bed47...|  3635.8400000000074|\n+--------------------+--------------------+\nonly showing top 20 rows\n\n"
        },
        {
          "name": "stderr",
          "output_type": "stream",
          "text": "                                                                                \r"
        }
      ],
      "source": [
        "seller_revenue_df.show()"
      ]
    },
    {
      "cell_type": "markdown",
      "id": "86eb0588-91e8-47ef-89d3-b8b4907270ae",
      "metadata": {
        "id": "86eb0588-91e8-47ef-89d3-b8b4907270ae"
      },
      "source": [
        "# Advance Aggregation"
      ]
    },
    {
      "cell_type": "code",
      "execution_count": null,
      "id": "65f58645-97c8-42f5-aa3d-94728505e6bf",
      "metadata": {
        "id": "65f58645-97c8-42f5-aa3d-94728505e6bf"
      },
      "outputs": [],
      "source": [
        "# Total Revenue and AOV(Average order Value) per Customer\n",
        "\n",
        "customers_spending_df = full_orders_df.groupBy('customer_id')\\\n",
        ".agg(\n",
        "    count('order_id').alias('total_orders'),\n",
        "    sum('price').alias('total_revenue'),\n",
        "    round(avg('price'),2).alias('AOV')).orderBy('total_revenue',ascending=False)"
      ]
    },
    {
      "cell_type": "code",
      "execution_count": null,
      "id": "98011062-e0f0-415b-9e45-fd53de1b916f",
      "metadata": {
        "id": "98011062-e0f0-415b-9e45-fd53de1b916f",
        "outputId": "65b47cdb-68eb-49ba-a986-87c07dfbee4a"
      },
      "outputs": [
        {
          "data": {
            "text/plain": "969.2819319173698"
          },
          "execution_count": 22,
          "metadata": {},
          "output_type": "execute_result"
        }
      ],
      "source": [
        "6662844.0/6874"
      ]
    },
    {
      "cell_type": "code",
      "execution_count": null,
      "id": "3ab95fb5-baa3-45a3-b3d7-7fc0239b5077",
      "metadata": {
        "id": "3ab95fb5-baa3-45a3-b3d7-7fc0239b5077",
        "outputId": "32f3b0f8-6bcb-459a-8194-a009ff0e0dd0"
      },
      "outputs": [
        {
          "name": "stderr",
          "output_type": "stream",
          "text": "[Stage 47:====================================================> (195 + 4) / 200]\r"
        },
        {
          "name": "stdout",
          "output_type": "stream",
          "text": "+--------------------+------------+------------------+-------+\n|         customer_id|total_orders|     total_revenue|    AOV|\n+--------------------+------------+------------------+-------+\n|d3e82ccec3cb5f956...|        6876|         6662844.0|  969.0|\n|df55c14d1476a9a34...|         743|         3565657.0| 4799.0|\n|fe5113a38e3575c04...|        2292|         3293604.0| 1437.0|\n|ec5b2ba62e5743423...|        1428|         2556120.0| 1790.0|\n|63b964e79dee32a35...|        6072|         2501664.0|  412.0|\n|46bb3c0b1a65c8399...|         748|         2336752.0| 3124.0|\n|05455dfa7cd02f13d...|        2184| 2160194.400000087|  989.1|\n|3690e975641f01bd0...|         802|         2124498.0| 2649.0|\n|349509b216bd5ec11...|         743|         1923627.0| 2589.0|\n|695476b5848d64ba0...|         687|1820543.1299999943|2649.99|\n|73236a0796f53d60d...|         832|         1755520.0| 2110.0|\n|cc803a2c412833101...|         762|         1676400.0| 2200.0|\n|1ff773612ab8934db...|        5820|1658641.7999999512| 284.99|\n|fced842c7dad61e8c...|         602|         1654898.0| 2749.0|\n|1ecb47d23dc8203cd...|        1164|1629588.3599999903|1399.99|\n|de832e8dbb1f588a4...|        2190|1584990.5999999817| 723.74|\n|803cd9b04f9cd252c...|         488|         1512312.0| 3099.0|\n|d72181923840c8895...|        2721|1488114.8999999566|  546.9|\n|06d478ba352a27a51...|        1146|         1461150.0| 1275.0|\n|0049e8442c2a3e4a8...|        1204|         1444800.0| 1200.0|\n+--------------------+------------+------------------+-------+\nonly showing top 20 rows\n\n"
        },
        {
          "name": "stderr",
          "output_type": "stream",
          "text": "                                                                                \r"
        }
      ],
      "source": [
        "customers_spending_df.show()"
      ]
    },
    {
      "cell_type": "code",
      "execution_count": null,
      "id": "c4cc0055-ccc3-4307-b596-828341b1dc01",
      "metadata": {
        "id": "c4cc0055-ccc3-4307-b596-828341b1dc01",
        "outputId": "44ab354e-c0eb-4ad6-e521-b0b2fb47528f"
      },
      "outputs": [
        {
          "name": "stdout",
          "output_type": "stream",
          "text": "root\n |-- order_id: string (nullable = true)\n |-- customer_id: string (nullable = true)\n |-- seller_id: string (nullable = true)\n |-- product_id: string (nullable = true)\n |-- order_status: string (nullable = true)\n |-- order_purchase_timestamp: timestamp (nullable = true)\n |-- order_approved_at: timestamp (nullable = true)\n |-- order_delivered_carrier_date: timestamp (nullable = true)\n |-- order_delivered_customer_date: timestamp (nullable = true)\n |-- order_estimated_delivery_date: timestamp (nullable = true)\n |-- order_item_id: integer (nullable = true)\n |-- shipping_limit_date: timestamp (nullable = true)\n |-- price: double (nullable = true)\n |-- freight_value: double (nullable = true)\n |-- product_category_name: string (nullable = true)\n |-- product_name_lenght: integer (nullable = true)\n |-- product_description_lenght: integer (nullable = true)\n |-- product_photos_qty: integer (nullable = true)\n |-- product_weight_g: integer (nullable = true)\n |-- product_length_cm: integer (nullable = true)\n |-- product_height_cm: integer (nullable = true)\n |-- product_width_cm: integer (nullable = true)\n |-- seller_zip_code_prefix: integer (nullable = true)\n |-- seller_city: string (nullable = true)\n |-- seller_state: string (nullable = true)\n |-- customer_unique_id: string (nullable = true)\n |-- customer_zip_code_prefix: integer (nullable = true)\n |-- customer_city: string (nullable = true)\n |-- customer_state: string (nullable = true)\n |-- geolocation_zip_code_prefix: integer (nullable = true)\n |-- geolocation_lat: double (nullable = true)\n |-- geolocation_lng: double (nullable = true)\n |-- geolocation_city: string (nullable = true)\n |-- geolocation_state: string (nullable = true)\n |-- review_id: string (nullable = true)\n |-- review_score: string (nullable = true)\n |-- review_comment_title: string (nullable = true)\n |-- review_comment_message: string (nullable = true)\n |-- review_creation_date: string (nullable = true)\n |-- review_answer_timestamp: string (nullable = true)\n |-- payment_sequential: integer (nullable = true)\n |-- payment_type: string (nullable = true)\n |-- payment_installments: integer (nullable = true)\n |-- payment_value: double (nullable = true)\n\n"
        }
      ],
      "source": [
        "full_orders_df.printSchema()"
      ]
    },
    {
      "cell_type": "code",
      "execution_count": null,
      "id": "155969a7-d542-4b70-9ad1-6a952b431834",
      "metadata": {
        "id": "155969a7-d542-4b70-9ad1-6a952b431834"
      },
      "outputs": [],
      "source": [
        "# Seller Performance Metrics (Revenue, Average Review, count)\n",
        "\n",
        "seller_performace_df = full_orders_df.groupBy('seller_id')\\\n",
        ".agg(\n",
        "    count('order_id').alias('total_orders'),\n",
        "    sum('price').alias('total_revenue'),\n",
        "    round(avg('review_score'),2).alias('avg review')\n",
        ").orderBy('total_revenue',ascending=False)\n"
      ]
    },
    {
      "cell_type": "code",
      "execution_count": null,
      "id": "5242db58-da54-4997-a26c-8de91eed7cdb",
      "metadata": {
        "id": "5242db58-da54-4997-a26c-8de91eed7cdb",
        "outputId": "8b769dee-6ea3-4a9d-fff1-626db0262c94"
      },
      "outputs": [
        {
          "name": "stderr",
          "output_type": "stream",
          "text": "[Stage 54:=====================================================>(197 + 3) / 200]\r"
        },
        {
          "name": "stdout",
          "output_type": "stream",
          "text": "+--------------------+------------+--------------------+----------+\n|           seller_id|total_orders|       total_revenue|avg review|\n+--------------------+------------+--------------------+----------+\n|4869f7a5dfa277a7d...|      184586|       3.613854732E7|      4.09|\n|53243585a1d6dc264...|       54510| 3.428977494999999E7|      4.12|\n|4a3ca9315b744ce9f...|      330659| 3.375938104000014E7|      3.77|\n|7c67e1448b00f6e96...|      233303| 3.228194686999958E7|      3.42|\n|fa1c13f2614d7b5c4...|       87679| 3.013763311000003E7|      4.38|\n|da8622b14eb17ae28...|      264431|2.9857519929999955E7|      3.98|\n|7e93a43ef30c4f03f...|       50223| 2.631430130999988E7|      4.15|\n|1025f0e2d44d7041d...|      229582|2.2936882719999965E7|      3.89|\n|46dc3b2cc0980fb8e...|       90426| 2.179177328999985E7|      4.18|\n|955fee9216a65b617...|      232360| 2.096402587000002E7|      4.04|\n|7a67c85e85bb2ce85...|      167228|  2.03124429199999E7|      4.26|\n|620c87c171fb2a6dd...|      142229| 2.011954390000001E7|      4.36|\n|7d13fca1522535862...|       88805|       1.815667201E7|      4.07|\n|a1043bafd471dff53...|      132671| 1.766255697999993E7|      4.25|\n|6560211a19b47992c...|      286533|        1.73155019E7|      3.86|\n|edb1ef5e36e0c8cd8...|       38945|1.6624835149999848E7|      4.43|\n|1f50f920176fa81da...|      297287|1.6497155839999722E7|      4.04|\n|5dceca129747e92ff...|       50418|1.4909400350000003E7|      4.17|\n|cc419e0650a3c5ba7...|      256018| 1.475068364000004E7|      4.07|\n|3d871de0142ce09b7...|      175874|1.4184266399999935E7|      4.15|\n+--------------------+------------+--------------------+----------+\nonly showing top 20 rows\n\n"
        },
        {
          "name": "stderr",
          "output_type": "stream",
          "text": "                                                                                \r"
        }
      ],
      "source": [
        "seller_performace_df.show()"
      ]
    }
  ],
  "metadata": {
    "kernelspec": {
      "display_name": "PySpark",
      "language": "python",
      "name": "pyspark"
    },
    "language_info": {
      "codemirror_mode": {
        "name": "ipython",
        "version": 3
      },
      "file_extension": ".py",
      "mimetype": "text/x-python",
      "name": "python",
      "nbconvert_exporter": "python",
      "pygments_lexer": "ipython3",
      "version": "3.10.8"
    },
    "colab": {
      "provenance": []
    }
  },
  "nbformat": 4,
  "nbformat_minor": 5
}